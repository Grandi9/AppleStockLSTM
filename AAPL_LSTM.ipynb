{
  "nbformat": 4,
  "nbformat_minor": 0,
  "metadata": {
    "colab": {
      "name": "AAPL-LSTM.ipynb",
      "provenance": [],
      "collapsed_sections": [],
      "mount_file_id": "1G0EKzr_LezsLmpQSxq1RuGE2bbxmyAOB",
      "authorship_tag": "ABX9TyPntRT9W9QTB6JJ6Sbvj76s",
      "include_colab_link": true
    },
    "kernelspec": {
      "name": "python3",
      "display_name": "Python 3"
    }
  },
  "cells": [
    {
      "cell_type": "markdown",
      "metadata": {
        "id": "view-in-github",
        "colab_type": "text"
      },
      "source": [
        "<a href=\"https://colab.research.google.com/github/Grandi9/AppleStockLSTM/blob/master/AAPL_LSTM.ipynb\" target=\"_parent\"><img src=\"https://colab.research.google.com/assets/colab-badge.svg\" alt=\"Open In Colab\"/></a>"
      ]
    },
    {
      "cell_type": "code",
      "metadata": {
        "id": "I6n_avUAzV1X"
      },
      "source": [
        "# I am using LSTM since it has Long term price dependencies\n",
        "# LSTM's are useful since we can give relavant weights to the important data in the past\n",
        "# We use this LSTM to predict the stock price of AAPL (Apple Inc) \n",
        "# i am using the past 60 days stock price."
      ],
      "execution_count": null,
      "outputs": []
    },
    {
      "cell_type": "code",
      "metadata": {
        "id": "a67NzPKX0ekn"
      },
      "source": [
        "# Import the libs\n",
        "\n",
        "import math\n",
        "import pandas_datareader as web #for reading the data\n",
        "import numpy as np\n",
        "import pandas as pd\n",
        "\n",
        "from sklearn.preprocessing import MinMaxScaler\n",
        "from keras.models import Sequential #using keras\n",
        "from keras.layers import Dense, LSTM #importing LSTMs\n",
        "import matplotlib.pyplot as plt\n",
        "plt.style.use('fivethirtyeight') #specfic style of the matplot"
      ],
      "execution_count": 2,
      "outputs": []
    },
    {
      "cell_type": "code",
      "metadata": {
        "id": "iXfzqTVY2ZRY",
        "outputId": "34e86ff7-eef9-4e90-c85f-49d840ae07a8",
        "colab": {
          "base_uri": "https://localhost:8080/",
          "height": 450
        }
      },
      "source": [
        "#get the stock prices and respective dates from yahoo finance\n",
        "df = web.DataReader('AAPL', data_source='yahoo', start ='2012-01-01', end='2020-10-28')\n",
        "\n",
        "#show the snapshot of data\n",
        "#the missing dates are Saturdays, SUndays or Public Holidays\n",
        "df"
      ],
      "execution_count": 4,
      "outputs": [
        {
          "output_type": "execute_result",
          "data": {
            "text/html": [
              "<div>\n",
              "<style scoped>\n",
              "    .dataframe tbody tr th:only-of-type {\n",
              "        vertical-align: middle;\n",
              "    }\n",
              "\n",
              "    .dataframe tbody tr th {\n",
              "        vertical-align: top;\n",
              "    }\n",
              "\n",
              "    .dataframe thead th {\n",
              "        text-align: right;\n",
              "    }\n",
              "</style>\n",
              "<table border=\"1\" class=\"dataframe\">\n",
              "  <thead>\n",
              "    <tr style=\"text-align: right;\">\n",
              "      <th></th>\n",
              "      <th>High</th>\n",
              "      <th>Low</th>\n",
              "      <th>Open</th>\n",
              "      <th>Close</th>\n",
              "      <th>Volume</th>\n",
              "      <th>Adj Close</th>\n",
              "    </tr>\n",
              "    <tr>\n",
              "      <th>Date</th>\n",
              "      <th></th>\n",
              "      <th></th>\n",
              "      <th></th>\n",
              "      <th></th>\n",
              "      <th></th>\n",
              "      <th></th>\n",
              "    </tr>\n",
              "  </thead>\n",
              "  <tbody>\n",
              "    <tr>\n",
              "      <th>2012-01-03</th>\n",
              "      <td>14.732142</td>\n",
              "      <td>14.607142</td>\n",
              "      <td>14.621428</td>\n",
              "      <td>14.686786</td>\n",
              "      <td>302220800.0</td>\n",
              "      <td>12.691425</td>\n",
              "    </tr>\n",
              "    <tr>\n",
              "      <th>2012-01-04</th>\n",
              "      <td>14.810000</td>\n",
              "      <td>14.617143</td>\n",
              "      <td>14.642858</td>\n",
              "      <td>14.765715</td>\n",
              "      <td>260022000.0</td>\n",
              "      <td>12.759631</td>\n",
              "    </tr>\n",
              "    <tr>\n",
              "      <th>2012-01-05</th>\n",
              "      <td>14.948215</td>\n",
              "      <td>14.738214</td>\n",
              "      <td>14.819643</td>\n",
              "      <td>14.929643</td>\n",
              "      <td>271269600.0</td>\n",
              "      <td>12.901293</td>\n",
              "    </tr>\n",
              "    <tr>\n",
              "      <th>2012-01-06</th>\n",
              "      <td>15.098214</td>\n",
              "      <td>14.972143</td>\n",
              "      <td>14.991786</td>\n",
              "      <td>15.085714</td>\n",
              "      <td>318292800.0</td>\n",
              "      <td>13.036158</td>\n",
              "    </tr>\n",
              "    <tr>\n",
              "      <th>2012-01-09</th>\n",
              "      <td>15.276786</td>\n",
              "      <td>15.048214</td>\n",
              "      <td>15.196428</td>\n",
              "      <td>15.061786</td>\n",
              "      <td>394024400.0</td>\n",
              "      <td>13.015480</td>\n",
              "    </tr>\n",
              "    <tr>\n",
              "      <th>...</th>\n",
              "      <td>...</td>\n",
              "      <td>...</td>\n",
              "      <td>...</td>\n",
              "      <td>...</td>\n",
              "      <td>...</td>\n",
              "      <td>...</td>\n",
              "    </tr>\n",
              "    <tr>\n",
              "      <th>2020-10-22</th>\n",
              "      <td>118.040001</td>\n",
              "      <td>114.589996</td>\n",
              "      <td>117.449997</td>\n",
              "      <td>115.750000</td>\n",
              "      <td>101988000.0</td>\n",
              "      <td>115.750000</td>\n",
              "    </tr>\n",
              "    <tr>\n",
              "      <th>2020-10-23</th>\n",
              "      <td>116.550003</td>\n",
              "      <td>114.279999</td>\n",
              "      <td>116.389999</td>\n",
              "      <td>115.040001</td>\n",
              "      <td>82572600.0</td>\n",
              "      <td>115.040001</td>\n",
              "    </tr>\n",
              "    <tr>\n",
              "      <th>2020-10-26</th>\n",
              "      <td>116.550003</td>\n",
              "      <td>112.879997</td>\n",
              "      <td>114.010002</td>\n",
              "      <td>115.050003</td>\n",
              "      <td>111850700.0</td>\n",
              "      <td>115.050003</td>\n",
              "    </tr>\n",
              "    <tr>\n",
              "      <th>2020-10-27</th>\n",
              "      <td>117.279999</td>\n",
              "      <td>114.540001</td>\n",
              "      <td>115.489998</td>\n",
              "      <td>116.599998</td>\n",
              "      <td>92276800.0</td>\n",
              "      <td>116.599998</td>\n",
              "    </tr>\n",
              "    <tr>\n",
              "      <th>2020-10-28</th>\n",
              "      <td>115.430000</td>\n",
              "      <td>111.099998</td>\n",
              "      <td>115.050003</td>\n",
              "      <td>111.199997</td>\n",
              "      <td>143937800.0</td>\n",
              "      <td>111.199997</td>\n",
              "    </tr>\n",
              "  </tbody>\n",
              "</table>\n",
              "<p>2221 rows × 6 columns</p>\n",
              "</div>"
            ],
            "text/plain": [
              "                  High         Low  ...       Volume   Adj Close\n",
              "Date                                ...                         \n",
              "2012-01-03   14.732142   14.607142  ...  302220800.0   12.691425\n",
              "2012-01-04   14.810000   14.617143  ...  260022000.0   12.759631\n",
              "2012-01-05   14.948215   14.738214  ...  271269600.0   12.901293\n",
              "2012-01-06   15.098214   14.972143  ...  318292800.0   13.036158\n",
              "2012-01-09   15.276786   15.048214  ...  394024400.0   13.015480\n",
              "...                ...         ...  ...          ...         ...\n",
              "2020-10-22  118.040001  114.589996  ...  101988000.0  115.750000\n",
              "2020-10-23  116.550003  114.279999  ...   82572600.0  115.040001\n",
              "2020-10-26  116.550003  112.879997  ...  111850700.0  115.050003\n",
              "2020-10-27  117.279999  114.540001  ...   92276800.0  116.599998\n",
              "2020-10-28  115.430000  111.099998  ...  143937800.0  111.199997\n",
              "\n",
              "[2221 rows x 6 columns]"
            ]
          },
          "metadata": {
            "tags": []
          },
          "execution_count": 4
        }
      ]
    },
    {
      "cell_type": "code",
      "metadata": {
        "id": "lLH5-tNt3KO3",
        "outputId": "07c0d2ba-28fc-451e-cf2f-11d16d5f481a",
        "colab": {
          "base_uri": "https://localhost:8080/"
        }
      },
      "source": [
        "#number of rows and columns in our dataset\n",
        "df.shape"
      ],
      "execution_count": 5,
      "outputs": [
        {
          "output_type": "execute_result",
          "data": {
            "text/plain": [
              "(2221, 6)"
            ]
          },
          "metadata": {
            "tags": []
          },
          "execution_count": 5
        }
      ]
    },
    {
      "cell_type": "code",
      "metadata": {
        "id": "P1vmmYTg39Dj",
        "outputId": "26484999-a44f-475e-d460-b7bf71b875ea",
        "colab": {
          "base_uri": "https://localhost:8080/",
          "height": 558
        }
      },
      "source": [
        "#visuvalize the closing price Date vs Price\n",
        "plt.figure(figsize=(16,8))\n",
        "plt.title('Stock closing price')\n",
        "plt.plot(df['Close'])\n",
        "plt.xlabel('Date', fontsize=18)\n",
        "plt.ylabel('Close Price in USD', fontsize=18)\n",
        "plt.show()"
      ],
      "execution_count": 6,
      "outputs": [
        {
          "output_type": "display_data",
          "data": {
            "image/png": "[encoded data removed]",
            "text/plain": [
              "<Figure size 1152x576 with 1 Axes>"
            ]
          },
          "metadata": {
            "tags": []
          }
        }
      ]
    },
    {
      "cell_type": "code",
      "metadata": {
        "id": "KB1xeSc18XZI",
        "outputId": "8986c44d-402f-4e4e-d89b-8d4f1e73a696",
        "colab": {
          "base_uri": "https://localhost:8080/"
        }
      },
      "source": [
        "# new dataframe with only close column\n",
        "data = df.filter(['Close'])\n",
        "\n",
        "#convert into numpy array\n",
        "dataset =data.values\n",
        "\n",
        "#assign 80% of the data rows to train the model on\n",
        "training_data_len = math.ceil(len(dataset) *0.8)\n",
        "\n",
        "training_data_len #checking \n"
      ],
      "execution_count": 7,
      "outputs": [
        {
          "output_type": "execute_result",
          "data": {
            "text/plain": [
              "1777"
            ]
          },
          "metadata": {
            "tags": []
          },
          "execution_count": 7
        }
      ]
    },
    {
      "cell_type": "code",
      "metadata": {
        "id": "_lokLzFA9STD",
        "outputId": "972f4ab9-cf9e-4c4f-f333-eebb25773cce",
        "colab": {
          "base_uri": "https://localhost:8080/"
        }
      },
      "source": [
        "#scale the data : pre-processing data\n",
        "#making the range to be in 0-1\n",
        "scaler = MinMaxScaler(feature_range=(0,1))\n",
        "scaled_data = scaler.fit_transform(dataset)\n",
        "\n",
        "scaled_data"
      ],
      "execution_count": 8,
      "outputs": [
        {
          "output_type": "execute_result",
          "data": {
            "text/plain": [
              "array([[0.0061488 ],\n",
              "       [0.00680527],\n",
              "       [0.00816869],\n",
              "       ...,\n",
              "       [0.84089168],\n",
              "       [0.85378333],\n",
              "       [0.80887034]])"
            ]
          },
          "metadata": {
            "tags": []
          },
          "execution_count": 8
        }
      ]
    },
    {
      "cell_type": "code",
      "metadata": {
        "id": "-6Eud5SV9z_8"
      },
      "source": [
        "#create the training dataset\n",
        "#create the scaled training data\n",
        "train_data = scaled_data[0:training_data_len , :]\n",
        "\n",
        "#split data into x_train and y_train datasets\n",
        "x_train = []\n",
        "y_train = [] \n",
        "\n",
        "#x_train will contain past 60 days data for example (index 0 to index 59)\n",
        "#y_train will contain next day data for example (index 60)\n",
        "for i in range(60,len(train_data)):\n",
        "  x_train.append(train_data[i-60:i,0])\n",
        "  y_train.append(train_data[i,0])\n"
      ],
      "execution_count": 9,
      "outputs": []
    },
    {
      "cell_type": "code",
      "metadata": {
        "id": "NhnHjsjr_Wt9"
      },
      "source": [
        "#converting x-train and y-train to numpy\n",
        "x_train, y_train = np.array(x_train), np.array(y_train)"
      ],
      "execution_count": 10,
      "outputs": []
    },
    {
      "cell_type": "code",
      "metadata": {
        "id": "l5sYYN5e_iNW",
        "outputId": "bcf6fe31-b23a-4473-94d9-6fc9ba4bb916",
        "colab": {
          "base_uri": "https://localhost:8080/"
        }
      },
      "source": [
        "#reshape the data\n",
        "#lstm needs data as 3 dimensions and x_train has only 2\n",
        "\n",
        "x_train = np.reshape(x_train, (x_train.shape[0], x_train.shape[1],1))\n",
        "x_train.shape"
      ],
      "execution_count": 11,
      "outputs": [
        {
          "output_type": "execute_result",
          "data": {
            "text/plain": [
              "(1717, 60, 1)"
            ]
          },
          "metadata": {
            "tags": []
          },
          "execution_count": 11
        }
      ]
    },
    {
      "cell_type": "code",
      "metadata": {
        "id": "QqbZ6LG3BkJ2"
      },
      "source": [
        "#build the LSTM \n",
        "#two lstm layers with 50 neurons each\n",
        "model = Sequential()\n",
        "model.add(LSTM(50, return_sequences=True, input_shape=(x_train.shape[1],1)))\n",
        "model.add(LSTM(50, return_sequences=False)) #false because it is the last layer\n",
        "\n",
        "#dense layers\n",
        "model.add(Dense(25))\n",
        "model.add(Dense(1))"
      ],
      "execution_count": 12,
      "outputs": []
    },
    {
      "cell_type": "code",
      "metadata": {
        "id": "rmZkdFfkFYM3"
      },
      "source": [
        "#complie the model\n",
        "#optimizer adam is for improving the loss fun\n",
        "#loss fun is a benchmark on how the model did on training\n",
        "model.compile(optimizer='adam', loss ='mean_squared_error')"
      ],
      "execution_count": 13,
      "outputs": []
    },
    {
      "cell_type": "code",
      "metadata": {
        "id": "LNMzMS-DF0zL",
        "outputId": "f731c11f-3e3a-4689-e351-54e2a1537b21",
        "colab": {
          "base_uri": "https://localhost:8080/"
        }
      },
      "source": [
        "#train the model\n",
        "model.fit(x_train, y_train, batch_size=1, epochs=1)"
      ],
      "execution_count": 14,
      "outputs": [
        {
          "output_type": "stream",
          "text": [
            "1717/1717 [==============================] - 37s 22ms/step - loss: 2.3668e-04\n"
          ],
          "name": "stdout"
        },
        {
          "output_type": "execute_result",
          "data": {
            "text/plain": [
              "<tensorflow.python.keras.callbacks.History at 0x7f39a6c53748>"
            ]
          },
          "metadata": {
            "tags": []
          },
          "execution_count": 14
        }
      ]
    },
    {
      "cell_type": "code",
      "metadata": {
        "id": "vsDBeVgiGWOg"
      },
      "source": [
        "#create the testing dataset\n",
        "#create a new array which has sacaled values from index 1684 to 2179\n",
        "test_data = scaled_data[training_data_len - 60: ,:]\n",
        "\n",
        "#create the datasets\n",
        "x_test = [] #for past 60 values\n",
        "y_test = dataset[training_data_len: , :] #all remaining values\n",
        "for i in range(60, len(test_data)):\n",
        "  x_test.append(test_data[i-60:i, 0])\n"
      ],
      "execution_count": 18,
      "outputs": []
    },
    {
      "cell_type": "code",
      "metadata": {
        "id": "9xiz55FdLUyz"
      },
      "source": [
        "#converting x-test to numpy\n",
        "x_test = np.array(x_test)"
      ],
      "execution_count": 19,
      "outputs": []
    },
    {
      "cell_type": "code",
      "metadata": {
        "id": "mtVDa6AuLkxF"
      },
      "source": [
        "#reshape the data\n",
        "#lstm needs data as 3 dimensions and x_train has only 2\n",
        "\n",
        "x_test = np.reshape(x_test, (x_test.shape[0], x_test.shape[1],1))\n",
        "#x_test.shape"
      ],
      "execution_count": 20,
      "outputs": []
    },
    {
      "cell_type": "code",
      "metadata": {
        "id": "umO-7LScL7Vs"
      },
      "source": [
        "#get the models predicted pricing values\n",
        "predictions = model.predict(x_test)\n",
        "\n",
        "#undoing the scaling \n",
        "#so that the predictions contain the smae values as y_dataset\n",
        "predictions = scaler.inverse_transform(predictions)"
      ],
      "execution_count": 21,
      "outputs": []
    },
    {
      "cell_type": "code",
      "metadata": {
        "id": "7nD2vw94MyuJ",
        "outputId": "7f22e9af-8e2a-41f1-b28a-2ca93b34c85e",
        "colab": {
          "base_uri": "https://localhost:8080/"
        }
      },
      "source": [
        "#evaluvate the model\n",
        "#using (RSME)\n",
        "rsme = np.sqrt( np.mean( predictions - y_test)**2)\n",
        "rsme\n",
        "\n",
        "#this rsme is a good value, considering the abnormal increase in AAPL due to COVID "
      ],
      "execution_count": 22,
      "outputs": [
        {
          "output_type": "execute_result",
          "data": {
            "text/plain": [
              "1.7868455336974547"
            ]
          },
          "metadata": {
            "tags": []
          },
          "execution_count": 22
        }
      ]
    },
    {
      "cell_type": "code",
      "metadata": {
        "id": "R4DcXHN6N-ll",
        "outputId": "3992ba9b-fefb-486f-da11-d32e655ace68",
        "colab": {
          "base_uri": "https://localhost:8080/",
          "height": 776
        }
      },
      "source": [
        "#plotting the data\n",
        "train = data[:training_data_len]\n",
        "valid = data[training_data_len:] #validation dataset\n",
        "valid['Predictions'] = predictions\n",
        "\n",
        "#visuvalize the model\n",
        "plt.figure(figsize=(20,10))\n",
        "plt.title('Model')\n",
        "plt.xlabel('Date', fontsize=18)\n",
        "plt.ylabel('Close Price in USD', fontsize=18)\n",
        "plt.plot(train['Close'])\n",
        "plt.plot(valid[['Close', 'Predictions']])\n",
        "plt.legend(['Train', 'Val', 'Predictions'], loc='lower right')\n",
        "plt.show()"
      ],
      "execution_count": 23,
      "outputs": [
        {
          "output_type": "stream",
          "text": [
            "/usr/local/lib/python3.6/dist-packages/ipykernel_launcher.py:4: SettingWithCopyWarning: \n",
            "A value is trying to be set on a copy of a slice from a DataFrame.\n",
            "Try using .loc[row_indexer,col_indexer] = value instead\n",
            "\n",
            "See the caveats in the documentation: https://pandas.pydata.org/pandas-docs/stable/user_guide/indexing.html#returning-a-view-versus-a-copy\n",
            "  after removing the cwd from sys.path.\n"
          ],
          "name": "stderr"
        },
        {
          "output_type": "display_data",
          "data": {
            "image/png": "[encoded data removed]",
            "text/plain": [
              "<Figure size 1440x720 with 1 Axes>"
            ]
          },
          "metadata": {
            "tags": []
          }
        }
      ]
    },
    {
      "cell_type": "code",
      "metadata": {
        "id": "rZn5ZeclW1w_",
        "outputId": "b89461cb-fd78-43e6-d6de-6db3e943b170",
        "colab": {
          "base_uri": "https://localhost:8080/",
          "height": 450
        }
      },
      "source": [
        "#show the actual price vs predicted prices\n",
        "valid"
      ],
      "execution_count": 24,
      "outputs": [
        {
          "output_type": "execute_result",
          "data": {
            "text/html": [
              "<div>\n",
              "<style scoped>\n",
              "    .dataframe tbody tr th:only-of-type {\n",
              "        vertical-align: middle;\n",
              "    }\n",
              "\n",
              "    .dataframe tbody tr th {\n",
              "        vertical-align: top;\n",
              "    }\n",
              "\n",
              "    .dataframe thead th {\n",
              "        text-align: right;\n",
              "    }\n",
              "</style>\n",
              "<table border=\"1\" class=\"dataframe\">\n",
              "  <thead>\n",
              "    <tr style=\"text-align: right;\">\n",
              "      <th></th>\n",
              "      <th>Close</th>\n",
              "      <th>Predictions</th>\n",
              "    </tr>\n",
              "    <tr>\n",
              "      <th>Date</th>\n",
              "      <th></th>\n",
              "      <th></th>\n",
              "    </tr>\n",
              "  </thead>\n",
              "  <tbody>\n",
              "    <tr>\n",
              "      <th>2019-01-28</th>\n",
              "      <td>39.075001</td>\n",
              "      <td>40.107189</td>\n",
              "    </tr>\n",
              "    <tr>\n",
              "      <th>2019-01-29</th>\n",
              "      <td>38.669998</td>\n",
              "      <td>40.213409</td>\n",
              "    </tr>\n",
              "    <tr>\n",
              "      <th>2019-01-30</th>\n",
              "      <td>41.312500</td>\n",
              "      <td>40.251579</td>\n",
              "    </tr>\n",
              "    <tr>\n",
              "      <th>2019-01-31</th>\n",
              "      <td>41.610001</td>\n",
              "      <td>40.619213</td>\n",
              "    </tr>\n",
              "    <tr>\n",
              "      <th>2019-02-01</th>\n",
              "      <td>41.630001</td>\n",
              "      <td>41.139240</td>\n",
              "    </tr>\n",
              "    <tr>\n",
              "      <th>...</th>\n",
              "      <td>...</td>\n",
              "      <td>...</td>\n",
              "    </tr>\n",
              "    <tr>\n",
              "      <th>2020-10-22</th>\n",
              "      <td>115.750000</td>\n",
              "      <td>120.248215</td>\n",
              "    </tr>\n",
              "    <tr>\n",
              "      <th>2020-10-23</th>\n",
              "      <td>115.040001</td>\n",
              "      <td>119.574623</td>\n",
              "    </tr>\n",
              "    <tr>\n",
              "      <th>2020-10-26</th>\n",
              "      <td>115.050003</td>\n",
              "      <td>118.854065</td>\n",
              "    </tr>\n",
              "    <tr>\n",
              "      <th>2020-10-27</th>\n",
              "      <td>116.599998</td>\n",
              "      <td>118.221313</td>\n",
              "    </tr>\n",
              "    <tr>\n",
              "      <th>2020-10-28</th>\n",
              "      <td>111.199997</td>\n",
              "      <td>117.947525</td>\n",
              "    </tr>\n",
              "  </tbody>\n",
              "</table>\n",
              "<p>444 rows × 2 columns</p>\n",
              "</div>"
            ],
            "text/plain": [
              "                 Close  Predictions\n",
              "Date                               \n",
              "2019-01-28   39.075001    40.107189\n",
              "2019-01-29   38.669998    40.213409\n",
              "2019-01-30   41.312500    40.251579\n",
              "2019-01-31   41.610001    40.619213\n",
              "2019-02-01   41.630001    41.139240\n",
              "...                ...          ...\n",
              "2020-10-22  115.750000   120.248215\n",
              "2020-10-23  115.040001   119.574623\n",
              "2020-10-26  115.050003   118.854065\n",
              "2020-10-27  116.599998   118.221313\n",
              "2020-10-28  111.199997   117.947525\n",
              "\n",
              "[444 rows x 2 columns]"
            ]
          },
          "metadata": {
            "tags": []
          },
          "execution_count": 24
        }
      ]
    },
    {
      "cell_type": "code",
      "metadata": {
        "id": "A_IGcWxyXGvV",
        "outputId": "c7d494c2-a07d-49d9-d6c5-32afce28f6b5",
        "colab": {
          "base_uri": "https://localhost:8080/"
        }
      },
      "source": [
        "#get the quote\n",
        "apple_quote = web.DataReader('AAPL', data_source='yahoo', start='2012-01-01', end='2020-10-28')\n",
        "\n",
        "#create a new dataframe\n",
        "new_df = apple_quote.filter(['Close'])\n",
        "\n",
        "#get the last 60 day closing price values\n",
        "#convert dataframe into an array\n",
        "last_60_days = new_df[-60:].values\n",
        "\n",
        "#scale data so that values are btw 0 and 1 using the same values as eariler\n",
        "last_60_days_scaled = scaler.transform(last_60_days)\n",
        "\n",
        "X_test=[]\n",
        "#append past the 60 days \n",
        "X_test.append(last_60_days_scaled)\n",
        "\n",
        "#convert the X-test to numpy\n",
        "X_test = np.array(X_test)\n",
        "\n",
        "#reshaping so that dimensions match\n",
        "X_test = np.reshape(X_test, (X_test.shape[0], X_test.shape[1], 1))\n",
        "\n",
        "#getting predicted scaled price\n",
        "pred_price = model.predict(X_test)\n",
        "\n",
        "#undoing the scaling\n",
        "pred_price = scaler.inverse_transform(pred_price)\n",
        "print(pred_price)\n"
      ],
      "execution_count": 27,
      "outputs": [
        {
          "output_type": "stream",
          "text": [
            "[[117.08264]]\n"
          ],
          "name": "stdout"
        }
      ]
    },
    {
      "cell_type": "code",
      "metadata": {
        "id": "XgRZnzLeapr9",
        "outputId": "e99ad7af-acba-4860-e650-033484e9b351",
        "colab": {
          "base_uri": "https://localhost:8080/"
        }
      },
      "source": [
        "#get the quote\n",
        "apple_quote2 = web.DataReader('AAPL', data_source='yahoo', start='2020-10-29', end='2020-10-29')\n",
        "print(apple_quote2['Close'])"
      ],
      "execution_count": 28,
      "outputs": [
        {
          "output_type": "stream",
          "text": [
            "Date\n",
            "2020-10-29    115.32\n",
            "Name: Close, dtype: float64\n"
          ],
          "name": "stdout"
        }
      ]
    },
    {
      "cell_type": "code",
      "metadata": {
        "id": "PRWDE5pQa5sd"
      },
      "source": [
        ""
      ],
      "execution_count": null,
      "outputs": []
    }
  ]
}