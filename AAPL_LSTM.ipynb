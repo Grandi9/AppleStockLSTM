{
  "nbformat": 4,
  "nbformat_minor": 0,
  "metadata": {
    "colab": {
      "name": "AAPL-LSTM.ipynb",
      "provenance": [],
      "collapsed_sections": [],
      "mount_file_id": "1G0EKzr_LezsLmpQSxq1RuGE2bbxmyAOB",
      "authorship_tag": "ABX9TyNTnT3VmcKOfAN+UDSggaiB",
      "include_colab_link": true
    },
    "kernelspec": {
      "name": "python3",
      "display_name": "Python 3"
    }
  },
  "cells": [
    {
      "cell_type": "markdown",
      "metadata": {
        "id": "view-in-github",
        "colab_type": "text"
      },
      "source": [
        "<a href=\"https://colab.research.google.com/github/Grandi9/AppleStockLSTM/blob/master/AAPL_LSTM.ipynb\" target=\"_parent\"><img src=\"https://colab.research.google.com/assets/colab-badge.svg\" alt=\"Open In Colab\"/></a>"
      ]
    },
    {
      "cell_type": "code",
      "metadata": {
        "id": "I6n_avUAzV1X",
        "colab_type": "code",
        "colab": {}
      },
      "source": [
        "# This program uses Recurrent neural network called - LSTM\n",
        "# I am using LSTM since it has Long term price dependencies\n",
        "# LSTM's are useful since we can give relavant weights to the important data in the past\n",
        "# We use this LSTM to predict the stock price of AAPL (Apple Inc) \n",
        "# i am using the past 60 days stock price."
      ],
      "execution_count": null,
      "outputs": []
    },
    {
      "cell_type": "code",
      "metadata": {
        "id": "a67NzPKX0ekn",
        "colab_type": "code",
        "colab": {
          "base_uri": "https://localhost:8080/",
          "height": 71
        },
        "outputId": "00e4db64-5ba7-4438-c606-46b88ea5f815"
      },
      "source": [
        "# Import the libs\n",
        "\n",
        "import math\n",
        "import pandas_datareader as web #for reading the data\n",
        "import numpy as np\n",
        "import pandas as pd\n",
        "\n",
        "from sklearn.preprocessing import MinMaxScaler\n",
        "from keras.models import Sequential #using keras\n",
        "from keras.layers import Dense, LSTM #importing LSTMs\n",
        "import matplotlib.pyplot as plt\n",
        "plt.style.use('fivethirtyeight') #specfic style of the matplot"
      ],
      "execution_count": 3,
      "outputs": [
        {
          "output_type": "stream",
          "text": [
            "/usr/local/lib/python3.6/dist-packages/pandas_datareader/compat/__init__.py:7: FutureWarning: pandas.util.testing is deprecated. Use the functions in the public API at pandas.testing instead.\n",
            "  from pandas.util.testing import assert_frame_equal\n"
          ],
          "name": "stderr"
        }
      ]
    },
    {
      "cell_type": "code",
      "metadata": {
        "id": "iXfzqTVY2ZRY",
        "colab_type": "code",
        "colab": {
          "base_uri": "https://localhost:8080/",
          "height": 450
        },
        "outputId": "3c3d5d76-e83f-44da-f137-f2c6038a2fc0"
      },
      "source": [
        "#get the stock prices and respective dates from yahoo finance\n",
        "df = web.DataReader('AAPL', data_source='yahoo', start ='2012-01-01', end='2020-09-02')\n",
        "\n",
        "#show the snapshot of data\n",
        "#the missing dates are Saturdays, SUndays or Public Holidays\n",
        "df"
      ],
      "execution_count": 4,
      "outputs": [
        {
          "output_type": "execute_result",
          "data": {
            "text/html": [
              "<div>\n",
              "<style scoped>\n",
              "    .dataframe tbody tr th:only-of-type {\n",
              "        vertical-align: middle;\n",
              "    }\n",
              "\n",
              "    .dataframe tbody tr th {\n",
              "        vertical-align: top;\n",
              "    }\n",
              "\n",
              "    .dataframe thead th {\n",
              "        text-align: right;\n",
              "    }\n",
              "</style>\n",
              "<table border=\"1\" class=\"dataframe\">\n",
              "  <thead>\n",
              "    <tr style=\"text-align: right;\">\n",
              "      <th></th>\n",
              "      <th>High</th>\n",
              "      <th>Low</th>\n",
              "      <th>Open</th>\n",
              "      <th>Close</th>\n",
              "      <th>Volume</th>\n",
              "      <th>Adj Close</th>\n",
              "    </tr>\n",
              "    <tr>\n",
              "      <th>Date</th>\n",
              "      <th></th>\n",
              "      <th></th>\n",
              "      <th></th>\n",
              "      <th></th>\n",
              "      <th></th>\n",
              "      <th></th>\n",
              "    </tr>\n",
              "  </thead>\n",
              "  <tbody>\n",
              "    <tr>\n",
              "      <th>2012-01-03</th>\n",
              "      <td>14.732142</td>\n",
              "      <td>14.607142</td>\n",
              "      <td>14.621428</td>\n",
              "      <td>14.686786</td>\n",
              "      <td>302220800.0</td>\n",
              "      <td>12.691425</td>\n",
              "    </tr>\n",
              "    <tr>\n",
              "      <th>2012-01-04</th>\n",
              "      <td>14.810000</td>\n",
              "      <td>14.617143</td>\n",
              "      <td>14.642858</td>\n",
              "      <td>14.765715</td>\n",
              "      <td>260022000.0</td>\n",
              "      <td>12.759631</td>\n",
              "    </tr>\n",
              "    <tr>\n",
              "      <th>2012-01-05</th>\n",
              "      <td>14.948215</td>\n",
              "      <td>14.738214</td>\n",
              "      <td>14.819643</td>\n",
              "      <td>14.929643</td>\n",
              "      <td>271269600.0</td>\n",
              "      <td>12.901293</td>\n",
              "    </tr>\n",
              "    <tr>\n",
              "      <th>2012-01-06</th>\n",
              "      <td>15.098214</td>\n",
              "      <td>14.972143</td>\n",
              "      <td>14.991786</td>\n",
              "      <td>15.085714</td>\n",
              "      <td>318292800.0</td>\n",
              "      <td>13.036158</td>\n",
              "    </tr>\n",
              "    <tr>\n",
              "      <th>2012-01-09</th>\n",
              "      <td>15.276786</td>\n",
              "      <td>15.048214</td>\n",
              "      <td>15.196428</td>\n",
              "      <td>15.061786</td>\n",
              "      <td>394024400.0</td>\n",
              "      <td>13.015480</td>\n",
              "    </tr>\n",
              "    <tr>\n",
              "      <th>...</th>\n",
              "      <td>...</td>\n",
              "      <td>...</td>\n",
              "      <td>...</td>\n",
              "      <td>...</td>\n",
              "      <td>...</td>\n",
              "      <td>...</td>\n",
              "    </tr>\n",
              "    <tr>\n",
              "      <th>2020-08-27</th>\n",
              "      <td>127.485001</td>\n",
              "      <td>123.832497</td>\n",
              "      <td>127.142502</td>\n",
              "      <td>125.010002</td>\n",
              "      <td>155552400.0</td>\n",
              "      <td>125.010002</td>\n",
              "    </tr>\n",
              "    <tr>\n",
              "      <th>2020-08-28</th>\n",
              "      <td>126.442497</td>\n",
              "      <td>124.577499</td>\n",
              "      <td>126.012497</td>\n",
              "      <td>124.807503</td>\n",
              "      <td>187630000.0</td>\n",
              "      <td>124.807503</td>\n",
              "    </tr>\n",
              "    <tr>\n",
              "      <th>2020-08-31</th>\n",
              "      <td>131.000000</td>\n",
              "      <td>126.000000</td>\n",
              "      <td>127.580002</td>\n",
              "      <td>129.039993</td>\n",
              "      <td>225702700.0</td>\n",
              "      <td>129.039993</td>\n",
              "    </tr>\n",
              "    <tr>\n",
              "      <th>2020-09-01</th>\n",
              "      <td>134.800003</td>\n",
              "      <td>130.529999</td>\n",
              "      <td>132.759995</td>\n",
              "      <td>134.179993</td>\n",
              "      <td>152470100.0</td>\n",
              "      <td>134.179993</td>\n",
              "    </tr>\n",
              "    <tr>\n",
              "      <th>2020-09-02</th>\n",
              "      <td>137.979996</td>\n",
              "      <td>127.000000</td>\n",
              "      <td>137.589996</td>\n",
              "      <td>131.399994</td>\n",
              "      <td>199707400.0</td>\n",
              "      <td>131.399994</td>\n",
              "    </tr>\n",
              "  </tbody>\n",
              "</table>\n",
              "<p>2182 rows × 6 columns</p>\n",
              "</div>"
            ],
            "text/plain": [
              "                  High         Low  ...       Volume   Adj Close\n",
              "Date                                ...                         \n",
              "2012-01-03   14.732142   14.607142  ...  302220800.0   12.691425\n",
              "2012-01-04   14.810000   14.617143  ...  260022000.0   12.759631\n",
              "2012-01-05   14.948215   14.738214  ...  271269600.0   12.901293\n",
              "2012-01-06   15.098214   14.972143  ...  318292800.0   13.036158\n",
              "2012-01-09   15.276786   15.048214  ...  394024400.0   13.015480\n",
              "...                ...         ...  ...          ...         ...\n",
              "2020-08-27  127.485001  123.832497  ...  155552400.0  125.010002\n",
              "2020-08-28  126.442497  124.577499  ...  187630000.0  124.807503\n",
              "2020-08-31  131.000000  126.000000  ...  225702700.0  129.039993\n",
              "2020-09-01  134.800003  130.529999  ...  152470100.0  134.179993\n",
              "2020-09-02  137.979996  127.000000  ...  199707400.0  131.399994\n",
              "\n",
              "[2182 rows x 6 columns]"
            ]
          },
          "metadata": {
            "tags": []
          },
          "execution_count": 4
        }
      ]
    },
    {
      "cell_type": "code",
      "metadata": {
        "id": "lLH5-tNt3KO3",
        "colab_type": "code",
        "colab": {
          "base_uri": "https://localhost:8080/",
          "height": 34
        },
        "outputId": "8e6b578c-9941-4dc3-ed51-320cac034238"
      },
      "source": [
        "#number of rows and columns in our dataset\n",
        "df.shape"
      ],
      "execution_count": 5,
      "outputs": [
        {
          "output_type": "execute_result",
          "data": {
            "text/plain": [
              "(2182, 6)"
            ]
          },
          "metadata": {
            "tags": []
          },
          "execution_count": 5
        }
      ]
    },
    {
      "cell_type": "code",
      "metadata": {
        "id": "P1vmmYTg39Dj",
        "colab_type": "code",
        "colab": {
          "base_uri": "https://localhost:8080/",
          "height": 558
        },
        "outputId": "c2f35e83-fa7d-4641-9269-25738aa1d165"
      },
      "source": [
        "#visuvalize the closing price Date vs Price\n",
        "plt.figure(figsize=(16,8))\n",
        "plt.title('Stock closing price')\n",
        "plt.plot(df['Close'])\n",
        "plt.xlabel('Date', fontsize=18)\n",
        "plt.ylabel('Close Price in USD', fontsize=18)\n",
        "plt.show()"
      ],
      "execution_count": 6,
      "outputs": [
        {
          "output_type": "display_data",
          "data": {
            "image/png": "[encoded data removed]",
            "text/plain": [
              "<Figure size 1152x576 with 1 Axes>"
            ]
          },
          "metadata": {
            "tags": []
          }
        }
      ]
    },
    {
      "cell_type": "code",
      "metadata": {
        "id": "KB1xeSc18XZI",
        "colab_type": "code",
        "colab": {
          "base_uri": "https://localhost:8080/",
          "height": 34
        },
        "outputId": "dc585721-4a62-4a24-e2f6-5e8c6750edca"
      },
      "source": [
        "# new dataframe with only close column\n",
        "data = df.filter(['Close'])\n",
        "\n",
        "#convert into numpy array\n",
        "dataset =data.values\n",
        "\n",
        "#assign 80% of the data rows to train the model on\n",
        "training_data_len = math.ceil(len(dataset) *0.8)\n",
        "\n",
        "training_data_len #checking \n"
      ],
      "execution_count": 7,
      "outputs": [
        {
          "output_type": "execute_result",
          "data": {
            "text/plain": [
              "1746"
            ]
          },
          "metadata": {
            "tags": []
          },
          "execution_count": 7
        }
      ]
    },
    {
      "cell_type": "code",
      "metadata": {
        "id": "_lokLzFA9STD",
        "colab_type": "code",
        "colab": {
          "base_uri": "https://localhost:8080/",
          "height": 136
        },
        "outputId": "9b796348-79dd-438e-cc42-f67c3cafc431"
      },
      "source": [
        "#scale the data : pre-processing data\n",
        "#making the range to be in 0-1\n",
        "scaler = MinMaxScaler(feature_range=(0,1))\n",
        "scaled_data = scaler.fit_transform(dataset)\n",
        "\n",
        "scaled_data"
      ],
      "execution_count": 8,
      "outputs": [
        {
          "output_type": "execute_result",
          "data": {
            "text/plain": [
              "array([[0.0061488 ],\n",
              "       [0.00680527],\n",
              "       [0.00816869],\n",
              "       ...,\n",
              "       [0.9572495 ],\n",
              "       [1.        ],\n",
              "       [0.97687814]])"
            ]
          },
          "metadata": {
            "tags": []
          },
          "execution_count": 8
        }
      ]
    },
    {
      "cell_type": "code",
      "metadata": {
        "id": "-6Eud5SV9z_8",
        "colab_type": "code",
        "colab": {}
      },
      "source": [
        "#create the training dataset\n",
        "#create the scaled training data\n",
        "train_data = scaled_data[0:training_data_len , :]\n",
        "\n",
        "#split data into x_train and y_train datasets\n",
        "x_train = []\n",
        "y_train = [] \n",
        "\n",
        "#x_train will contain past 60 days data for example (index 0 to index 59)\n",
        "#y_train will contain next day data for example (index 60)\n",
        "for i in range(60,len(train_data)):\n",
        "  x_train.append(train_data[i-60:i,0])\n",
        "  y_train.append(train_data[i,0])\n"
      ],
      "execution_count": 9,
      "outputs": []
    },
    {
      "cell_type": "code",
      "metadata": {
        "id": "NhnHjsjr_Wt9",
        "colab_type": "code",
        "colab": {}
      },
      "source": [
        "#converting x-train and y-train to numpy\n",
        "x_train, y_train = np.array(x_train), np.array(y_train)"
      ],
      "execution_count": 10,
      "outputs": []
    },
    {
      "cell_type": "code",
      "metadata": {
        "id": "l5sYYN5e_iNW",
        "colab_type": "code",
        "colab": {
          "base_uri": "https://localhost:8080/",
          "height": 34
        },
        "outputId": "623b7640-6b4b-4a40-d0f5-e910f622929a"
      },
      "source": [
        "#reshape the data\n",
        "#lstm needs data as 3 dimensions and x_train has only 2\n",
        "#change x_train = np.reshape(1684, 60, 1)\n",
        "x_train = np.reshape(x_train, (x_train.shape[0], x_train.shape[1],1))\n",
        "x_train.shape"
      ],
      "execution_count": 11,
      "outputs": [
        {
          "output_type": "execute_result",
          "data": {
            "text/plain": [
              "(1686, 60, 1)"
            ]
          },
          "metadata": {
            "tags": []
          },
          "execution_count": 11
        }
      ]
    },
    {
      "cell_type": "code",
      "metadata": {
        "id": "QqbZ6LG3BkJ2",
        "colab_type": "code",
        "colab": {}
      },
      "source": [
        "#build the LSTM \n",
        "#two lstm layers with 50 neurons each\n",
        "model = Sequential()\n",
        "model.add(LSTM(50, return_sequences=True, input_shape=(x_train.shape[1],1)))\n",
        "model.add(LSTM(50, return_sequences=False)) #false because it is the last layer\n",
        "\n",
        "#dense layers\n",
        "model.add(Dense(25))\n",
        "model.add(Dense(1))"
      ],
      "execution_count": 12,
      "outputs": []
    },
    {
      "cell_type": "code",
      "metadata": {
        "id": "rmZkdFfkFYM3",
        "colab_type": "code",
        "colab": {}
      },
      "source": [
        "#complie the model\n",
        "#optimizer adam is for improving the loss fun\n",
        "#loss fun is a benchmark on how the model did on training\n",
        "model.compile(optimizer='adam', loss ='mean_squared_error')"
      ],
      "execution_count": 13,
      "outputs": []
    },
    {
      "cell_type": "code",
      "metadata": {
        "id": "LNMzMS-DF0zL",
        "colab_type": "code",
        "colab": {
          "base_uri": "https://localhost:8080/",
          "height": 51
        },
        "outputId": "7af416af-4b98-4184-b072-c0f4661da335"
      },
      "source": [
        "#train the model\n",
        "model.fit(x_train, y_train, batch_size=1, epochs=1)"
      ],
      "execution_count": 14,
      "outputs": [
        {
          "output_type": "stream",
          "text": [
            "1686/1686 [==============================] - 31s 18ms/step - loss: 2.1764e-04\n"
          ],
          "name": "stdout"
        },
        {
          "output_type": "execute_result",
          "data": {
            "text/plain": [
              "<tensorflow.python.keras.callbacks.History at 0x7f2a758b6cc0>"
            ]
          },
          "metadata": {
            "tags": []
          },
          "execution_count": 14
        }
      ]
    },
    {
      "cell_type": "code",
      "metadata": {
        "id": "vsDBeVgiGWOg",
        "colab_type": "code",
        "colab": {}
      },
      "source": [
        "#create the testing dataset\n",
        "#create a new array which has sacaled values from index 1684 to 2179\n",
        "test_data = scaled_data[training_data_len - 60: ,:]\n",
        "\n",
        "#create the datasets\n",
        "x_test = [] #for past 60 values\n",
        "y_test = dataset[training_data_len: , :] #all remaining values\n",
        "for i in range(60, len(test_data)):\n",
        "  x_test.append(test_data[i-60:i, 0])\n"
      ],
      "execution_count": 15,
      "outputs": []
    },
    {
      "cell_type": "code",
      "metadata": {
        "id": "9xiz55FdLUyz",
        "colab_type": "code",
        "colab": {}
      },
      "source": [
        "#converting x-test to numpy\n",
        "x_test = np.array(x_test)"
      ],
      "execution_count": 16,
      "outputs": []
    },
    {
      "cell_type": "code",
      "metadata": {
        "id": "mtVDa6AuLkxF",
        "colab_type": "code",
        "colab": {}
      },
      "source": [
        "#reshape the data\n",
        "#lstm needs data as 3 dimensions and x_train has only 2\n",
        "\n",
        "x_test = np.reshape(x_test, (x_test.shape[0], x_test.shape[1],1))\n",
        "#x_test.shape"
      ],
      "execution_count": 17,
      "outputs": []
    },
    {
      "cell_type": "code",
      "metadata": {
        "id": "umO-7LScL7Vs",
        "colab_type": "code",
        "colab": {}
      },
      "source": [
        "#get the models predicted pricing values\n",
        "predictions = model.predict(x_test)\n",
        "\n",
        "#undoing the scaling \n",
        "#so that the predictions contain the smae values as y_dataset\n",
        "predictions = scaler.inverse_transform(predictions)"
      ],
      "execution_count": 18,
      "outputs": []
    },
    {
      "cell_type": "code",
      "metadata": {
        "id": "7nD2vw94MyuJ",
        "colab_type": "code",
        "colab": {
          "base_uri": "https://localhost:8080/",
          "height": 34
        },
        "outputId": "7adbf4af-59de-489d-fa6c-313567eb044a"
      },
      "source": [
        "#evaluvate the model\n",
        "#using (RSME)\n",
        "rsme = np.sqrt( np.mean( predictions - y_test)**2)\n",
        "rsme\n",
        "\n",
        "#this rsme is a good value, considering the abnormal increase in AAPL due to COVID "
      ],
      "execution_count": 22,
      "outputs": [
        {
          "output_type": "execute_result",
          "data": {
            "text/plain": [
              "2.7103226775423104"
            ]
          },
          "metadata": {
            "tags": []
          },
          "execution_count": 22
        }
      ]
    },
    {
      "cell_type": "code",
      "metadata": {
        "id": "R4DcXHN6N-ll",
        "colab_type": "code",
        "colab": {
          "base_uri": "https://localhost:8080/",
          "height": 773
        },
        "outputId": "8e419902-c709-4316-99ce-e9867ef657fa"
      },
      "source": [
        "#plotting the data\n",
        "train = data[:training_data_len]\n",
        "valid = data[training_data_len:] #validation dataset\n",
        "valid['Predictions'] = predictions\n",
        "\n",
        "#visuvalize the model\n",
        "plt.figure(figsize=(20,10))\n",
        "plt.title('Model')\n",
        "plt.xlabel('Date', fontsize=18)\n",
        "plt.ylabel('Close Price in USD', fontsize=18)\n",
        "plt.plot(train['Close'])\n",
        "plt.plot(valid[['Close', 'Predictions']])\n",
        "plt.legend(['Train', 'Val', 'Predictions'], loc='lower right')\n",
        "plt.show()"
      ],
      "execution_count": 20,
      "outputs": [
        {
          "output_type": "stream",
          "text": [
            "/usr/local/lib/python3.6/dist-packages/ipykernel_launcher.py:4: SettingWithCopyWarning: \n",
            "A value is trying to be set on a copy of a slice from a DataFrame.\n",
            "Try using .loc[row_indexer,col_indexer] = value instead\n",
            "\n",
            "See the caveats in the documentation: https://pandas.pydata.org/pandas-docs/stable/user_guide/indexing.html#returning-a-view-versus-a-copy\n",
            "  after removing the cwd from sys.path.\n"
          ],
          "name": "stderr"
        },
        {
          "output_type": "display_data",
          "data": {
            "image/png": "[encoded data removed]",
            "text/plain": [
              "<Figure size 1440x720 with 1 Axes>"
            ]
          },
          "metadata": {
            "tags": []
          }
        }
      ]
    },
    {
      "cell_type": "code",
      "metadata": {
        "id": "rZn5ZeclW1w_",
        "colab_type": "code",
        "colab": {
          "base_uri": "https://localhost:8080/",
          "height": 450
        },
        "outputId": "7d8d828e-04a2-4e0a-ae4c-0cada974bace"
      },
      "source": [
        "#show the actual price vs predicted prices\n",
        "valid"
      ],
      "execution_count": 26,
      "outputs": [
        {
          "output_type": "execute_result",
          "data": {
            "text/html": [
              "<div>\n",
              "<style scoped>\n",
              "    .dataframe tbody tr th:only-of-type {\n",
              "        vertical-align: middle;\n",
              "    }\n",
              "\n",
              "    .dataframe tbody tr th {\n",
              "        vertical-align: top;\n",
              "    }\n",
              "\n",
              "    .dataframe thead th {\n",
              "        text-align: right;\n",
              "    }\n",
              "</style>\n",
              "<table border=\"1\" class=\"dataframe\">\n",
              "  <thead>\n",
              "    <tr style=\"text-align: right;\">\n",
              "      <th></th>\n",
              "      <th>Close</th>\n",
              "      <th>Predictions</th>\n",
              "    </tr>\n",
              "    <tr>\n",
              "      <th>Date</th>\n",
              "      <th></th>\n",
              "      <th></th>\n",
              "    </tr>\n",
              "  </thead>\n",
              "  <tbody>\n",
              "    <tr>\n",
              "      <th>2018-12-11</th>\n",
              "      <td>42.157501</td>\n",
              "      <td>43.116989</td>\n",
              "    </tr>\n",
              "    <tr>\n",
              "      <th>2018-12-12</th>\n",
              "      <td>42.275002</td>\n",
              "      <td>42.706875</td>\n",
              "    </tr>\n",
              "    <tr>\n",
              "      <th>2018-12-13</th>\n",
              "      <td>42.737499</td>\n",
              "      <td>42.356720</td>\n",
              "    </tr>\n",
              "    <tr>\n",
              "      <th>2018-12-14</th>\n",
              "      <td>41.369999</td>\n",
              "      <td>42.137627</td>\n",
              "    </tr>\n",
              "    <tr>\n",
              "      <th>2018-12-17</th>\n",
              "      <td>40.985001</td>\n",
              "      <td>41.841064</td>\n",
              "    </tr>\n",
              "    <tr>\n",
              "      <th>...</th>\n",
              "      <td>...</td>\n",
              "      <td>...</td>\n",
              "    </tr>\n",
              "    <tr>\n",
              "      <th>2020-08-27</th>\n",
              "      <td>125.010002</td>\n",
              "      <td>114.207237</td>\n",
              "    </tr>\n",
              "    <tr>\n",
              "      <th>2020-08-28</th>\n",
              "      <td>124.807503</td>\n",
              "      <td>115.148766</td>\n",
              "    </tr>\n",
              "    <tr>\n",
              "      <th>2020-08-31</th>\n",
              "      <td>129.039993</td>\n",
              "      <td>115.713844</td>\n",
              "    </tr>\n",
              "    <tr>\n",
              "      <th>2020-09-01</th>\n",
              "      <td>134.179993</td>\n",
              "      <td>116.565086</td>\n",
              "    </tr>\n",
              "    <tr>\n",
              "      <th>2020-09-02</th>\n",
              "      <td>131.399994</td>\n",
              "      <td>118.047813</td>\n",
              "    </tr>\n",
              "  </tbody>\n",
              "</table>\n",
              "<p>436 rows × 2 columns</p>\n",
              "</div>"
            ],
            "text/plain": [
              "                 Close  Predictions\n",
              "Date                               \n",
              "2018-12-11   42.157501    43.116989\n",
              "2018-12-12   42.275002    42.706875\n",
              "2018-12-13   42.737499    42.356720\n",
              "2018-12-14   41.369999    42.137627\n",
              "2018-12-17   40.985001    41.841064\n",
              "...                ...          ...\n",
              "2020-08-27  125.010002   114.207237\n",
              "2020-08-28  124.807503   115.148766\n",
              "2020-08-31  129.039993   115.713844\n",
              "2020-09-01  134.179993   116.565086\n",
              "2020-09-02  131.399994   118.047813\n",
              "\n",
              "[436 rows x 2 columns]"
            ]
          },
          "metadata": {
            "tags": []
          },
          "execution_count": 26
        }
      ]
    },
    {
      "cell_type": "code",
      "metadata": {
        "id": "A_IGcWxyXGvV",
        "colab_type": "code",
        "colab": {
          "base_uri": "https://localhost:8080/",
          "height": 34
        },
        "outputId": "8ab4ef23-2bb1-45af-da4c-9bba1aa86381"
      },
      "source": [
        "#get the quote\n",
        "apple_quote = web.DataReader('AAPL', data_source='yahoo', start='2012-01-01', end='2020-09-02')\n",
        "\n",
        "#create a new dataframe\n",
        "new_df = apple_quote.filter(['Close'])\n",
        "\n",
        "#get the last 60 day closing price values\n",
        "#convert dataframe into an array\n",
        "last_60_days = new_df[-60:].values\n",
        "\n",
        "#scale data so that values are btw 0 and 1 using the same values as eariler\n",
        "last_60_days_scaled = scaler.transform(last_60_days)\n",
        "\n",
        "X_test=[]\n",
        "#append past the 60 days \n",
        "X_test.append(last_60_days_scaled)\n",
        "\n",
        "#convert the X-test to numpy\n",
        "X_test = np.array(X_test)\n",
        "\n",
        "#reshaping so that dimensions match\n",
        "X_test = np.reshape(X_test, (X_test.shape[0], X_test.shape[1], 1))\n",
        "\n",
        "#getting predicted scaled price\n",
        "pred_price = model.predict(X_test)\n",
        "\n",
        "#undoing the scaling\n",
        "pred_price = scaler.inverse_transform(pred_price)\n",
        "print(pred_price)\n"
      ],
      "execution_count": 23,
      "outputs": [
        {
          "output_type": "stream",
          "text": [
            "[[119.19246]]\n"
          ],
          "name": "stdout"
        }
      ]
    },
    {
      "cell_type": "code",
      "metadata": {
        "id": "XgRZnzLeapr9",
        "colab_type": "code",
        "colab": {
          "base_uri": "https://localhost:8080/",
          "height": 68
        },
        "outputId": "32e99dff-8cf6-42a6-ea21-a08b9c6bbea5"
      },
      "source": [
        "#get the quote\n",
        "apple_quote2 = web.DataReader('AAPL', data_source='yahoo', start='2020-09-02', end='2020-09-02')\n",
        "print(apple_quote2['Close'])"
      ],
      "execution_count": 28,
      "outputs": [
        {
          "output_type": "stream",
          "text": [
            "Date\n",
            "2020-09-02    131.399994\n",
            "Name: Close, dtype: float64\n"
          ],
          "name": "stdout"
        }
      ]
    },
    {
      "cell_type": "code",
      "metadata": {
        "id": "PRWDE5pQa5sd",
        "colab_type": "code",
        "colab": {}
      },
      "source": [
        ""
      ],
      "execution_count": null,
      "outputs": []
    }
  ]
}